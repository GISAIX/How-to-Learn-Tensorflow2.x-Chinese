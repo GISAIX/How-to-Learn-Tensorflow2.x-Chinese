{
 "cells": [
  {
   "cell_type": "markdown",
   "metadata": {},
   "source": [
    "# tf.keras"
   ]
  },
  {
   "cell_type": "markdown",
   "metadata": {},
   "source": [
    "Keras 是一个用于构建和训练深度学习模型的高阶 API。它可用于快速设计原型、高级研究和生产，具有以下三个主要优势：\n",
    "\n",
    "- 方便用户使用  \n",
    "  Keras 具有针对常见用例做出优化的简单而一致的界面。它可针对用户错误提供切实可行的清晰反馈。\n",
    "- 模块化和可组合  \n",
    "  将可配置的构造块连接在一起就可以构建 Keras 模型，并且几乎不受限制。\n",
    "- 易于扩展  \n",
    "  可以编写自定义构造块以表达新的研究创意，并且可以创建新层、损失函数并开发先进的模型。"
   ]
  },
  {
   "cell_type": "markdown",
   "metadata": {},
   "source": [
    "## 导入tf.keras"
   ]
  },
  {
   "cell_type": "markdown",
   "metadata": {},
   "source": [
    "tf.keras 是 TensorFlow 对 Keras API 规范的实现。这是一个用于构建和训练模型的高阶 APIb，包含对 TensorFlow 特定功能（例如 Eager Execution、tf.data 管道和 Estimator）的顶级支持。 tf.keras 使 TensorFlow 更易于使用，并且不会牺牲灵活性和性能。\n",
    "\n",
    "首先，导入 tf.keras 以设置 TensorFlow 程序："
   ]
  },
  {
   "cell_type": "code",
   "execution_count": 1,
   "metadata": {
    "ExecuteTime": {
     "end_time": "2019-04-30T01:32:56.282453Z",
     "start_time": "2019-04-30T01:32:55.258542Z"
    }
   },
   "outputs": [],
   "source": [
    "from __future__ import absolute_import, division, print_function, unicode_literals\n",
    "\n",
    "import tensorflow as tf\n",
    "from tensorflow import keras"
   ]
  },
  {
   "cell_type": "markdown",
   "metadata": {},
   "source": [
    "tf.keras 可以运行任何与 Keras 兼容的代码，但请注意：  \n",
    "最新版 TensorFlow 中的 tf.keras 版本可能与 PyPI 中的最新 keras 版本不同。请查看 tf.keras.version。  \n",
    "保存模型的权重时，tf.keras 默认采用检查点格式。请传递 save_format='h5' 以使用 HDF5。  "
   ]
  },
  {
   "cell_type": "code",
   "execution_count": 3,
   "metadata": {
    "ExecuteTime": {
     "end_time": "2019-04-29T23:03:58.686940Z",
     "start_time": "2019-04-29T23:03:58.683906Z"
    }
   },
   "outputs": [
    {
     "name": "stdout",
     "output_type": "stream",
     "text": [
      "2.0.0-alpha0\n",
      "2.2.4-tf\n"
     ]
    }
   ],
   "source": [
    "print(tf.__version__)\n",
    "print(keras.__version__)"
   ]
  },
  {
   "cell_type": "markdown",
   "metadata": {},
   "source": [
    "## 构建简单模型\n",
    "### 序列模型"
   ]
  },
  {
   "cell_type": "markdown",
   "metadata": {},
   "source": [
    "在 Keras 中，可以通过组合层来构建模型。模型（通常）是由层构成的图。最常见的模型类型是层的堆叠：tf.keras.Sequential 模型。  \n",
    "序列模型构建有两种方式：  \n",
    "1. 实例化tf.keras.Sequential()后，通过add方法添加layer定义；\n",
    "2. 将一个layer定义列表直接传给tf.keras.Sequential()  \n",
    "\n",
    "例如：构建一个简单的全连接网络（即多层感知器）"
   ]
  },
  {
   "cell_type": "code",
   "execution_count": 15,
   "metadata": {
    "ExecuteTime": {
     "end_time": "2019-04-30T02:03:15.752945Z",
     "start_time": "2019-04-30T02:03:15.717108Z"
    }
   },
   "outputs": [],
   "source": [
    "# 方式一：\n",
    "from tensorflow.keras import layers\n",
    "\n",
    "model = tf.keras.Sequential()\n",
    "model.add(layers.Dense(64, activation='relu', input_shape=(32,)))\n",
    "model.add(layers.Dense(64, activation='relu'))\n",
    "model.add(layers.Dense(10, activation='softmax'))"
   ]
  },
  {
   "cell_type": "code",
   "execution_count": 16,
   "metadata": {
    "ExecuteTime": {
     "end_time": "2019-04-30T02:03:16.298924Z",
     "start_time": "2019-04-30T02:03:16.263204Z"
    }
   },
   "outputs": [],
   "source": [
    "# 方式二：\n",
    "model = tf.keras.Sequential([\n",
    "    layers.Dense(64, activation='relu', input_shape=(32,)),\n",
    "    layers.Dense(64, activation='relu'),\n",
    "    layers.Dense(10, activation='softmax')\n",
    "])"
   ]
  },
  {
   "cell_type": "markdown",
   "metadata": {},
   "source": [
    "#### layer定义、配置"
   ]
  },
  {
   "cell_type": "markdown",
   "metadata": {},
   "source": [
    "可以使用很多 tf.keras.layers，它们具有一些相同的构造函数参数：\n",
    "\n",
    "activation：设置层的激活函数。此参数由**内置函数的名称**指定，或指定为**可调用对象**。默认情况下，系统不会应用任何激活函数。  \n",
    "\n",
    "kernel_initializer 和 bias_initializer：创建层权重（核和偏差）的初始化方案。此参数是一个名称或可调用对象，默认为 \"Glorot uniform\" 初始化器。  \n",
    "\n",
    "kernel_regularizer 和 bias_regularizer：应用层权重（核和偏差）的正则化方案，例如 L1 或 L2 正则化。默认情况下，系统不会应用正则化函数。   \n",
    "\n",
    "以下代码使用构造函数参数实例化 tf.keras.layers. Dense 层：\n",
    "\n"
   ]
  },
  {
   "cell_type": "code",
   "execution_count": 6,
   "metadata": {
    "ExecuteTime": {
     "end_time": "2019-04-29T23:03:58.799049Z",
     "start_time": "2019-04-29T23:03:58.784841Z"
    }
   },
   "outputs": [
    {
     "data": {
      "text/plain": [
       "<tensorflow.python.keras.layers.core.Dense at 0x12c590978>"
      ]
     },
     "execution_count": 6,
     "metadata": {},
     "output_type": "execute_result"
    }
   ],
   "source": [
    "# Create a sigmoid layer:\n",
    "layers.Dense(64, activation='sigmoid')\n",
    "# Or:\n",
    "layers.Dense(64, activation=tf.keras.activations.sigmoid)\n",
    "\n",
    "# A linear layer with L1 regularization of factor 0.01 applied to the kernel matrix:\n",
    "layers.Dense(64, kernel_regularizer=tf.keras.regularizers.l1(0.01))\n",
    "\n",
    "# A linear layer with L2 regularization of factor 0.01 applied to the bias vector:\n",
    "layers.Dense(64, bias_regularizer=tf.keras.regularizers.l2(0.01))\n",
    "\n",
    "# A linear layer with a kernel initialized to a random orthogonal matrix:\n",
    "layers.Dense(64, kernel_initializer='orthogonal')\n",
    "\n",
    "# A linear layer with a bias vector initialized to 2.0s:\n",
    "layers.Dense(64, bias_initializer=tf.keras.initializers.Constant(2.0))"
   ]
  },
  {
   "cell_type": "markdown",
   "metadata": {},
   "source": [
    "完成网络结构的定义、配置后，即可将构建的模型结构进行可视化。"
   ]
  },
  {
   "cell_type": "code",
   "execution_count": 4,
   "metadata": {
    "ExecuteTime": {
     "end_time": "2019-04-30T01:33:04.910074Z",
     "start_time": "2019-04-30T01:33:04.904367Z"
    }
   },
   "outputs": [
    {
     "name": "stdout",
     "output_type": "stream",
     "text": [
      "Model: \"sequential_1\"\n",
      "_________________________________________________________________\n",
      "Layer (type)                 Output Shape              Param #   \n",
      "=================================================================\n",
      "dense_3 (Dense)              (None, 64)                2112      \n",
      "_________________________________________________________________\n",
      "dense_4 (Dense)              (None, 64)                4160      \n",
      "_________________________________________________________________\n",
      "dense_5 (Dense)              (None, 10)                650       \n",
      "=================================================================\n",
      "Total params: 6,922\n",
      "Trainable params: 6,922\n",
      "Non-trainable params: 0\n",
      "_________________________________________________________________\n"
     ]
    }
   ],
   "source": [
    "model.summary()"
   ]
  },
  {
   "cell_type": "code",
   "execution_count": 10,
   "metadata": {
    "ExecuteTime": {
     "end_time": "2019-04-30T01:39:18.151325Z",
     "start_time": "2019-04-30T01:39:18.149045Z"
    }
   },
   "outputs": [],
   "source": [
    "# 安装可视化依赖的包\n",
    "# ! conda install pydot\n",
    "# ! conda install graphviz"
   ]
  },
  {
   "cell_type": "code",
   "execution_count": 8,
   "metadata": {
    "ExecuteTime": {
     "end_time": "2019-04-30T01:34:48.143140Z",
     "start_time": "2019-04-30T01:34:48.080860Z"
    },
    "scrolled": true
   },
   "outputs": [
    {
     "data": {
      "image/png": "[encoded data removed]",
      "text/plain": [
       "<IPython.core.display.Image object>"
      ]
     },
     "execution_count": 8,
     "metadata": {},
     "output_type": "execute_result"
    }
   ],
   "source": [
    "keras.utils.plot_model(model, 'my_first_model.png')"
   ]
  },
  {
   "cell_type": "code",
   "execution_count": 7,
   "metadata": {
    "ExecuteTime": {
     "end_time": "2019-04-30T01:34:44.832943Z",
     "start_time": "2019-04-30T01:34:44.766607Z"
    }
   },
   "outputs": [
    {
     "data": {
      "image/png": "[encoded data removed]",
      "text/plain": [
       "<IPython.core.display.Image object>"
      ]
     },
     "execution_count": 7,
     "metadata": {},
     "output_type": "execute_result"
    }
   ],
   "source": [
    "keras.utils.plot_model(model, 'my_first_model_shape_name.png', show_shapes=True, show_layer_names=True)"
   ]
  },
  {
   "cell_type": "markdown",
   "metadata": {},
   "source": [
    "#### 模型compile"
   ]
  },
  {
   "cell_type": "markdown",
   "metadata": {
    "ExecuteTime": {
     "end_time": "2019-04-23T00:58:18.586326Z",
     "start_time": "2019-04-23T00:58:18.582399Z"
    }
   },
   "source": [
    "构建好模型后，通过调用 compile 方法配置该模型的学习流程  \n",
    "\n",
    "构建好模型结构后，进行compile，把定义的各个layer真正组合起来。不需要先传入数据。  \n",
    "\n",
    "\n",
    "tf.keras.Model.compile 采用三个重要参数：\n",
    "\n",
    "optimizer：此对象会指定训练过程。从 tf.train 模块向其传递优化器实例，例如 tf.train.AdamOptimizer、tf.train.RMSPropOptimizer 或 tf.train.GradientDescentOptimizer。  \n",
    "loss：要在优化期间最小化的函数。常见选择包括均方误差 (mse)、categorical_crossentropy 和 binary_crossentropy。损失函数由名称或通过从 tf.keras.losses 模块传递可调用对象来指定。  \n",
    "metrics：用于监控训练。它们是 tf.keras.metrics 模块中的字符串名称或可调用对象。 \n",
    "\n",
    "对于不同类型的模型(分类、回归等)，这些参数的设置不同。"
   ]
  },
  {
   "cell_type": "code",
   "execution_count": 19,
   "metadata": {
    "ExecuteTime": {
     "end_time": "2019-04-30T02:03:38.530013Z",
     "start_time": "2019-04-30T02:03:38.373175Z"
    }
   },
   "outputs": [],
   "source": [
    "# 回归模型\n",
    "model.compile(optimizer=tf.keras.optimizers.Adam(0.01),\n",
    "              loss='mse',\n",
    "              metrics=['mae']\n",
    "             )\n",
    "\n",
    "# 分类模型\n",
    "model.compile(optimizer=tf.keras.optimizers.RMSprop(0.01),\n",
    "             loss=tf.keras.losses.CategoricalCrossentropy(),\n",
    "             metrics=[tf.keras.metrics.CategoricalAccuracy()]\n",
    "             )\n"
   ]
  },
  {
   "cell_type": "markdown",
   "metadata": {},
   "source": [
    "#### 模型训练\n",
    "模型的fit、evaluate、predict方法均可接收numpy数据和tf.dataset两种形式。\n",
    "\n",
    "tf.keras.Model.fit 采用三个重要参数：\n",
    "\n",
    "epochs：以周期为单位进行训练。一个周期是对整个输入数据的一次迭代（以较小的批次完成迭代）。  \n",
    "batch_size：当传递 NumPy 数据时，模型将数据分成较小的批次，并在训练期间迭代这些批次。此整数指定每个批次的大小。**请注意，如果样本总数不能被批次大小整除，则最后一个批次可能更小。**  \n",
    "\n",
    "验证集控制：  \n",
    "validation_data：在对模型进行原型设计时，您需要轻松监控该模型在某些验证数据上达到的效果。传递此参数（输入和标签元组）可以让该模型在每个周期结束时以推理模式显示所传递数据的损失和指标。\n",
    "validation_split：   \n",
    "validation_freq:  \n",
    "validation_steps:  \n"
   ]
  },
  {
   "cell_type": "markdown",
   "metadata": {},
   "source": [
    "#####  模型数据\n",
    "numpy数据和tf.dataset两种形式。"
   ]
  },
  {
   "cell_type": "markdown",
   "metadata": {},
   "source": [
    "##### 从numpy数据训练模型"
   ]
  },
  {
   "cell_type": "code",
   "execution_count": 17,
   "metadata": {
    "ExecuteTime": {
     "end_time": "2019-04-30T02:03:28.419913Z",
     "start_time": "2019-04-30T02:03:28.415066Z"
    }
   },
   "outputs": [],
   "source": [
    "import numpy as np\n",
    "\n",
    "data = np.random.random((1000, 32))\n",
    "labels = np.random.random((1000, 10))\n",
    "\n",
    "# 验证集\n",
    "val_data = np.random.random((100, 32))\n",
    "val_labels = np.random.random((100, 10))"
   ]
  },
  {
   "cell_type": "code",
   "execution_count": 21,
   "metadata": {
    "ExecuteTime": {
     "end_time": "2019-04-30T02:03:55.749508Z",
     "start_time": "2019-04-30T02:03:55.392475Z"
    }
   },
   "outputs": [
    {
     "name": "stdout",
     "output_type": "stream",
     "text": [
      "Train on 1000 samples, validate on 100 samples\n",
      "Epoch 1/10\n",
      "1000/1000 [==============================] - 0s 33us/sample - loss: 20510.8030 - categorical_accuracy: 0.1150 - val_loss: 31194.9089 - val_categorical_accuracy: 0.0900\n",
      "Epoch 2/10\n",
      "1000/1000 [==============================] - 0s 39us/sample - loss: 24515.9514 - categorical_accuracy: 0.1040 - val_loss: 14807.8472 - val_categorical_accuracy: 0.1200\n",
      "Epoch 3/10\n",
      "1000/1000 [==============================] - 0s 50us/sample - loss: 27464.4396 - categorical_accuracy: 0.1080 - val_loss: 29850.4888 - val_categorical_accuracy: 0.0600\n",
      "Epoch 4/10\n",
      "1000/1000 [==============================] - 0s 42us/sample - loss: 31096.0032 - categorical_accuracy: 0.1140 - val_loss: 34775.3345 - val_categorical_accuracy: 0.0900\n",
      "Epoch 5/10\n",
      "1000/1000 [==============================] - 0s 32us/sample - loss: 36407.6961 - categorical_accuracy: 0.1080 - val_loss: 29634.0178 - val_categorical_accuracy: 0.0900\n",
      "Epoch 6/10\n",
      "1000/1000 [==============================] - 0s 29us/sample - loss: 39903.7656 - categorical_accuracy: 0.0990 - val_loss: 42346.9131 - val_categorical_accuracy: 0.0600\n",
      "Epoch 7/10\n",
      "1000/1000 [==============================] - 0s 31us/sample - loss: 46785.5548 - categorical_accuracy: 0.0870 - val_loss: 43105.9330 - val_categorical_accuracy: 0.0600\n",
      "Epoch 8/10\n",
      "1000/1000 [==============================] - 0s 26us/sample - loss: 49684.4379 - categorical_accuracy: 0.1230 - val_loss: 47372.7564 - val_categorical_accuracy: 0.1200\n",
      "Epoch 9/10\n",
      "1000/1000 [==============================] - 0s 28us/sample - loss: 54096.5449 - categorical_accuracy: 0.0950 - val_loss: 54566.6511 - val_categorical_accuracy: 0.1200\n",
      "Epoch 10/10\n",
      "1000/1000 [==============================] - 0s 30us/sample - loss: 63153.7870 - categorical_accuracy: 0.0880 - val_loss: 68023.9362 - val_categorical_accuracy: 0.0500\n"
     ]
    }
   ],
   "source": [
    "history = model.fit(data, labels, epochs=10, batch_size=32, validation_data=(val_data, val_labels))"
   ]
  },
  {
   "cell_type": "code",
   "execution_count": 22,
   "metadata": {
    "ExecuteTime": {
     "end_time": "2019-04-30T02:04:01.842141Z",
     "start_time": "2019-04-30T02:04:01.837901Z"
    }
   },
   "outputs": [
    {
     "data": {
      "text/plain": [
       "tensorflow.python.keras.callbacks.History"
      ]
     },
     "execution_count": 22,
     "metadata": {},
     "output_type": "execute_result"
    }
   ],
   "source": [
    "type(history)"
   ]
  },
  {
   "cell_type": "code",
   "execution_count": 26,
   "metadata": {
    "ExecuteTime": {
     "end_time": "2019-04-30T02:06:30.456533Z",
     "start_time": "2019-04-30T02:06:30.452448Z"
    }
   },
   "outputs": [
    {
     "data": {
      "text/plain": [
       "{'loss': [20510.80303125,\n",
       "  24515.9514375,\n",
       "  27464.43959375,\n",
       "  31096.003171875,\n",
       "  36407.696125,\n",
       "  39903.7655625,\n",
       "  46785.55475,\n",
       "  49684.437875,\n",
       "  54096.5449375,\n",
       "  63153.787],\n",
       " 'categorical_accuracy': [0.115,\n",
       "  0.104,\n",
       "  0.108,\n",
       "  0.114,\n",
       "  0.108,\n",
       "  0.099,\n",
       "  0.087,\n",
       "  0.123,\n",
       "  0.095,\n",
       "  0.088],\n",
       " 'val_loss': [31194.90890625,\n",
       "  14807.8471875,\n",
       "  29850.48875,\n",
       "  34775.33453125,\n",
       "  29634.0178125,\n",
       "  42346.913125,\n",
       "  43105.93296875,\n",
       "  47372.75640625,\n",
       "  54566.65109375,\n",
       "  68023.93625],\n",
       " 'val_categorical_accuracy': [0.09,\n",
       "  0.12,\n",
       "  0.06,\n",
       "  0.09,\n",
       "  0.09,\n",
       "  0.06,\n",
       "  0.06,\n",
       "  0.12,\n",
       "  0.12,\n",
       "  0.05]}"
      ]
     },
     "execution_count": 26,
     "metadata": {},
     "output_type": "execute_result"
    }
   ],
   "source": [
    "history.history"
   ]
  },
  {
   "cell_type": "code",
   "execution_count": 27,
   "metadata": {
    "ExecuteTime": {
     "end_time": "2019-04-30T02:07:01.172919Z",
     "start_time": "2019-04-30T02:07:01.170186Z"
    }
   },
   "outputs": [],
   "source": [
    "loss = history.history['loss']\n",
    "val_loss = history.history['val_loss']\n",
    "categorical_accuracy = history.history['categorical_accuracy']\n",
    "val_categorical_accuracy = history.history['val_categorical_accuracy']"
   ]
  },
  {
   "cell_type": "code",
   "execution_count": 36,
   "metadata": {
    "ExecuteTime": {
     "end_time": "2019-04-30T02:17:58.428585Z",
     "start_time": "2019-04-30T02:17:58.137368Z"
    }
   },
   "outputs": [
    {
     "data": {
      "image/png": "[encoded data removed]",
      "text/plain": [
       "<matplotlib.figure.Figure at 0x130307908>"
      ]
     },
     "metadata": {
      "needs_background": "light"
     },
     "output_type": "display_data"
    }
   ],
   "source": [
    "import matplotlib.pyplot as plt\n",
    "plt.figure(figsize=(15,6))\n",
    "plt.subplot(121)\n",
    "plt.plot(history.epoch, loss)\n",
    "plt.plot(history.epoch, val_loss)\n",
    "plt.xlabel('Epoch')\n",
    "plt.ylabel('Loss')\n",
    "plt.legend(['loss', 'val_loss'])\n",
    "plt.subplot(122)\n",
    "plt.plot(history.epoch, categorical_accuracy)\n",
    "plt.plot(history.epoch, val_categorical_accuracy)\n",
    "plt.xlabel('Epoch')\n",
    "plt.ylabel('categorical_accuracy')\n",
    "plt.legend(['categorical_accuracy', 'val_categorical_accuracy'])\n",
    "plt.show()"
   ]
  },
  {
   "cell_type": "markdown",
   "metadata": {},
   "source": [
    "##### 从tf.data.Dataset训练模型\n",
    "Dataset将feature和label以tuple形式组合在一起"
   ]
  },
  {
   "cell_type": "code",
   "execution_count": 37,
   "metadata": {
    "ExecuteTime": {
     "end_time": "2019-04-30T02:18:22.476765Z",
     "start_time": "2019-04-30T02:18:22.470308Z"
    }
   },
   "outputs": [],
   "source": [
    "dataset = tf.data.Dataset.from_tensor_slices((data, labels))\n",
    "dataset = dataset.batch(32)\n",
    "\n",
    "val_dataset = tf.data.Dataset.from_tensor_slices((val_data, val_labels))\n",
    "val_dataset = val_dataset.batch(32)"
   ]
  },
  {
   "cell_type": "markdown",
   "metadata": {
    "ExecuteTime": {
     "end_time": "2019-04-24T07:58:08.587270Z",
     "start_time": "2019-04-24T07:58:08.582466Z"
    }
   },
   "source": [
    "每个epoch是对整个输入数据的迭代，每个epoch迭代的step数是(总样本数/batch_size)。也可以通过steps_per_epoch参数控制每个epoch迭代的step数，其上限是(总样本数/batch_size)"
   ]
  },
  {
   "cell_type": "code",
   "execution_count": 38,
   "metadata": {
    "ExecuteTime": {
     "end_time": "2019-04-30T02:18:25.629359Z",
     "start_time": "2019-04-30T02:18:25.396079Z"
    }
   },
   "outputs": [
    {
     "name": "stderr",
     "output_type": "stream",
     "text": [
      "WARNING: Logging before flag parsing goes to stderr.\n",
      "W0430 10:18:25.398064 4580296128 training_utils.py:1353] Expected a shuffled dataset but input dataset `x` is not shuffled. Please invoke `shuffle()` on input dataset.\n"
     ]
    },
    {
     "name": "stdout",
     "output_type": "stream",
     "text": [
      "Epoch 1/10\n",
      "3/3 [==============================] - 0s 6ms/step - loss: 76057.9271 - categorical_accuracy: 0.1354 - val_loss: 54195.4141 - val_categorical_accuracy: 0.0521\n",
      "Epoch 2/10\n",
      "3/3 [==============================] - 0s 7ms/step - loss: 48258.8008 - categorical_accuracy: 0.1250 - val_loss: 68026.7135 - val_categorical_accuracy: 0.1354\n",
      "Epoch 3/10\n",
      "3/3 [==============================] - 0s 6ms/step - loss: 71573.1979 - categorical_accuracy: 0.0938 - val_loss: 60910.2070 - val_categorical_accuracy: 0.0833\n",
      "Epoch 4/10\n",
      "3/3 [==============================] - 0s 8ms/step - loss: 66082.5990 - categorical_accuracy: 0.1562 - val_loss: 62867.4076 - val_categorical_accuracy: 0.1458\n",
      "Epoch 5/10\n",
      "3/3 [==============================] - 0s 7ms/step - loss: 67128.6706 - categorical_accuracy: 0.0729 - val_loss: 67326.1797 - val_categorical_accuracy: 0.1146\n",
      "Epoch 6/10\n",
      "3/3 [==============================] - 0s 7ms/step - loss: 78898.2786 - categorical_accuracy: 0.0625 - val_loss: 76010.1693 - val_categorical_accuracy: 0.0625\n",
      "Epoch 7/10\n",
      "3/3 [==============================] - 0s 8ms/step - loss: 65736.6419 - categorical_accuracy: 0.1562 - val_loss: 61017.6667 - val_categorical_accuracy: 0.1458\n",
      "Epoch 8/10\n",
      "3/3 [==============================] - 0s 7ms/step - loss: 77849.9036 - categorical_accuracy: 0.1250 - val_loss: 59468.9440 - val_categorical_accuracy: 0.1146\n",
      "Epoch 9/10\n",
      "3/3 [==============================] - 0s 6ms/step - loss: 55704.1094 - categorical_accuracy: 0.0833 - val_loss: 64600.0065 - val_categorical_accuracy: 0.1354\n",
      "Epoch 10/10\n",
      "3/3 [==============================] - 0s 6ms/step - loss: 72118.2760 - categorical_accuracy: 0.1146 - val_loss: 70533.0859 - val_categorical_accuracy: 0.0521\n"
     ]
    }
   ],
   "source": [
    "history = model.fit(dataset, epochs=10, steps_per_epoch=3, validation_data=val_dataset, validation_steps=3)"
   ]
  },
  {
   "cell_type": "markdown",
   "metadata": {},
   "source": [
    "#### 模型保存与载入\n",
    "有以下三种保存方式，适用场景分别是什么？  \n",
    "- 仅保存模型权重参数\n",
    "- 仅保存模型网络结构\n",
    "- 保存整个模型"
   ]
  },
  {
   "cell_type": "markdown",
   "metadata": {},
   "source": [
    "##### 仅保存模型权重参数\n",
    "默认情况下，会以 TensorFlow checkpoint文件格式保存模型的权重。权重也可以另存为 Keras HDF5 格式(Keras 多后端实现的默认格式)."
   ]
  },
  {
   "cell_type": "code",
   "execution_count": 37,
   "metadata": {
    "ExecuteTime": {
     "end_time": "2019-04-30T00:38:55.287445Z",
     "start_time": "2019-04-30T00:38:55.272555Z"
    }
   },
   "outputs": [],
   "source": [
    "# 默认以 TensorFlow checkpoint文件格式保存\n",
    "model.save_weights('./model/my_model_weights')  # 当路径不存在时，会自动创建 \n",
    "# 以HDF5格式保存\n",
    "model.save_weights('./model/my_model_weights.h5', save_format='h5')"
   ]
  },
  {
   "cell_type": "code",
   "execution_count": 39,
   "metadata": {
    "ExecuteTime": {
     "end_time": "2019-04-30T00:42:27.971085Z",
     "start_time": "2019-04-30T00:42:27.936591Z"
    }
   },
   "outputs": [],
   "source": [
    "# 载入模型权重，要求模型的网络结构与保存权重时模型的结构一致，否则无法匹配\n",
    "model.load_weights('./model/my_model_weights')\n",
    "model.load_weights('./model/my_model_weights.h5')"
   ]
  },
  {
   "cell_type": "markdown",
   "metadata": {},
   "source": [
    "##### 仅保存模型网络结构\n",
    "对模型架构（不含任何权重）进行序列化。即使没有定义原始模型的代码，保存的配置也可以重新创建并初始化相同的模型。  \n",
    "Keras 支持 JSON 和 YAML 序列化格式。"
   ]
  },
  {
   "cell_type": "code",
   "execution_count": 59,
   "metadata": {
    "ExecuteTime": {
     "end_time": "2019-04-30T01:06:26.070225Z",
     "start_time": "2019-04-30T01:06:26.060132Z"
    },
    "collapsed": true
   },
   "outputs": [
    {
     "name": "stdout",
     "output_type": "stream",
     "text": [
      "json_string: \n",
      "{\"class_name\": \"Sequential\", \"config\": {\"name\": \"sequential_4\", \"layers\": [{\"class_name\": \"Dense\", \"config\": {\"name\": \"dense_16\", \"trainable\": true, \"dtype\": \"float32\", \"units\": 64, \"activation\": \"relu\", \"use_bias\": true, \"kernel_initializer\": {\"class_name\": \"GlorotUniform\", \"config\": {\"seed\": null}}, \"bias_initializer\": {\"class_name\": \"Zeros\", \"config\": {}}, \"kernel_regularizer\": null, \"bias_regularizer\": null, \"activity_regularizer\": null, \"kernel_constraint\": null, \"bias_constraint\": null}}, {\"class_name\": \"Dense\", \"config\": {\"name\": \"dense_17\", \"trainable\": true, \"dtype\": \"float32\", \"units\": 10, \"activation\": \"softmax\", \"use_bias\": true, \"kernel_initializer\": {\"class_name\": \"GlorotUniform\", \"config\": {\"seed\": null}}, \"bias_initializer\": {\"class_name\": \"Zeros\", \"config\": {}}, \"kernel_regularizer\": null, \"bias_regularizer\": null, \"activity_regularizer\": null, \"kernel_constraint\": null, \"bias_constraint\": null}}], \"build_input_shape\": [null, 32]}, \"keras_version\": \"2.2.4-tf\", \"backend\": \"tensorflow\"}\n",
      "\n",
      "yaml_string: \n",
      "backend: tensorflow\n",
      "class_name: Sequential\n",
      "config:\n",
      "  build_input_shape: !!python/tuple\n",
      "  - null\n",
      "  - 32\n",
      "  layers:\n",
      "  - class_name: Dense\n",
      "    config:\n",
      "      activation: relu\n",
      "      activity_regularizer: null\n",
      "      bias_constraint: null\n",
      "      bias_initializer:\n",
      "        class_name: Zeros\n",
      "        config: {}\n",
      "      bias_regularizer: null\n",
      "      dtype: float32\n",
      "      kernel_constraint: null\n",
      "      kernel_initializer:\n",
      "        class_name: GlorotUniform\n",
      "        config:\n",
      "          seed: null\n",
      "      kernel_regularizer: null\n",
      "      name: dense_16\n",
      "      trainable: true\n",
      "      units: 64\n",
      "      use_bias: true\n",
      "  - class_name: Dense\n",
      "    config:\n",
      "      activation: softmax\n",
      "      activity_regularizer: null\n",
      "      bias_constraint: null\n",
      "      bias_initializer:\n",
      "        class_name: Zeros\n",
      "        config: {}\n",
      "      bias_regularizer: null\n",
      "      dtype: float32\n",
      "      kernel_constraint: null\n",
      "      kernel_initializer:\n",
      "        class_name: GlorotUniform\n",
      "        config:\n",
      "          seed: null\n",
      "      kernel_regularizer: null\n",
      "      name: dense_17\n",
      "      trainable: true\n",
      "      units: 10\n",
      "      use_bias: true\n",
      "  name: sequential_4\n",
      "keras_version: 2.2.4-tf\n",
      "\n",
      "\n"
     ]
    }
   ],
   "source": [
    "import pickle\n",
    "# 将模型结构序列化为JSON格式,并与pickle文件存储\n",
    "json_string = model.to_json()\n",
    "with open('./model/my_model_architeture_json.pkl', 'bw') as f:\n",
    "    pickle.dump(json_string, f)\n",
    "    \n",
    "\n",
    "# 将模型结构序列化为YAML格式,并与pickle文件存储\n",
    "yaml_string = model.to_yaml()\n",
    "with open('./model/my_model_architeture_yaml.pkl', 'bw') as f:\n",
    "    pickle.dump(yaml_string, f)\n",
    "\n",
    "print('json_string: \\n%s\\n' % json_string)\n",
    "print('yaml_string: \\n%s\\n' % yaml_string)"
   ]
  },
  {
   "cell_type": "markdown",
   "metadata": {},
   "source": [
    "从保存的模型结构序列化文件中夹在模型"
   ]
  },
  {
   "cell_type": "code",
   "execution_count": 61,
   "metadata": {
    "ExecuteTime": {
     "end_time": "2019-04-30T01:08:07.176712Z",
     "start_time": "2019-04-30T01:08:07.125273Z"
    },
    "scrolled": true
   },
   "outputs": [
    {
     "name": "stderr",
     "output_type": "stream",
     "text": [
      "/Users/levine/anaconda3/envs/tf2.0/lib/python3.6/site-packages/tensorflow/python/keras/saving/model_config.py:76: YAMLLoadWarning: calling yaml.load() without Loader=... is deprecated, as the default Loader is unsafe. Please read https://msg.pyyaml.org/load for full details.\n",
      "  config = yaml.load(yaml_string)\n"
     ]
    }
   ],
   "source": [
    "# 载入模型\n",
    "with open('./model/my_model_architeture_json.pkl', 'rb') as f:\n",
    "    json_string_loaded = pickle.load(f)\n",
    "    \n",
    "with open('./model/my_model_architeture_yaml.pkl', 'rb') as f:\n",
    "    yaml_string_loaded = pickle.load(f)\n",
    "    \n",
    "fresh_model = tf.keras.models.model_from_json(json_string_loaded)\n",
    "fresh_model = tf.keras.models.model_from_yaml(yaml_string_loaded)"
   ]
  },
  {
   "cell_type": "code",
   "execution_count": 40,
   "metadata": {
    "ExecuteTime": {
     "end_time": "2019-04-30T00:45:14.264678Z",
     "start_time": "2019-04-30T00:45:14.250572Z"
    }
   },
   "outputs": [
    {
     "name": "stdout",
     "output_type": "stream",
     "text": [
      "{'backend': 'tensorflow',\n",
      " 'class_name': 'Sequential',\n",
      " 'config': {'layers': [{'class_name': 'Dense',\n",
      "                        'config': {'activation': 'relu',\n",
      "                                   'activity_regularizer': None,\n",
      "                                   'batch_input_shape': [None, 32],\n",
      "                                   'bias_constraint': None,\n",
      "                                   'bias_initializer': {'class_name': 'Zeros',\n",
      "                                                        'config': {}},\n",
      "                                   'bias_regularizer': None,\n",
      "                                   'dtype': 'float32',\n",
      "                                   'kernel_constraint': None,\n",
      "                                   'kernel_initializer': {'class_name': 'GlorotUniform',\n",
      "                                                          'config': {'seed': None}},\n",
      "                                   'kernel_regularizer': None,\n",
      "                                   'name': 'dense_3',\n",
      "                                   'trainable': True,\n",
      "                                   'units': 64,\n",
      "                                   'use_bias': True}},\n",
      "                       {'class_name': 'Dense',\n",
      "                        'config': {'activation': 'relu',\n",
      "                                   'activity_regularizer': None,\n",
      "                                   'bias_constraint': None,\n",
      "                                   'bias_initializer': {'class_name': 'Zeros',\n",
      "                                                        'config': {}},\n",
      "                                   'bias_regularizer': None,\n",
      "                                   'dtype': 'float32',\n",
      "                                   'kernel_constraint': None,\n",
      "                                   'kernel_initializer': {'class_name': 'GlorotUniform',\n",
      "                                                          'config': {'seed': None}},\n",
      "                                   'kernel_regularizer': None,\n",
      "                                   'name': 'dense_4',\n",
      "                                   'trainable': True,\n",
      "                                   'units': 64,\n",
      "                                   'use_bias': True}},\n",
      "                       {'class_name': 'Dense',\n",
      "                        'config': {'activation': 'softmax',\n",
      "                                   'activity_regularizer': None,\n",
      "                                   'bias_constraint': None,\n",
      "                                   'bias_initializer': {'class_name': 'Zeros',\n",
      "                                                        'config': {}},\n",
      "                                   'bias_regularizer': None,\n",
      "                                   'dtype': 'float32',\n",
      "                                   'kernel_constraint': None,\n",
      "                                   'kernel_initializer': {'class_name': 'GlorotUniform',\n",
      "                                                          'config': {'seed': None}},\n",
      "                                   'kernel_regularizer': None,\n",
      "                                   'name': 'dense_5',\n",
      "                                   'trainable': True,\n",
      "                                   'units': 10,\n",
      "                                   'use_bias': True}}],\n",
      "            'name': 'sequential_1'},\n",
      " 'keras_version': '2.2.4-tf'}\n"
     ]
    }
   ],
   "source": [
    "# 借助pprint进行格式化输出\n",
    "import json\n",
    "import pprint\n",
    "pprint.pprint(json.loads(json_string))"
   ]
  },
  {
   "cell_type": "markdown",
   "metadata": {},
   "source": [
    "##### 保存整个模型\n",
    "整个模型可以保存到一个文件中，其中包含权重值、模型配置乃至优化器配置。这样，您就可以对模型设置检查点并稍后从完全相同的状态继续训练，而无需访问原始代码。"
   ]
  },
  {
   "cell_type": "code",
   "execution_count": 64,
   "metadata": {
    "ExecuteTime": {
     "end_time": "2019-04-30T01:14:52.220165Z",
     "start_time": "2019-04-30T01:14:51.236872Z"
    }
   },
   "outputs": [
    {
     "name": "stdout",
     "output_type": "stream",
     "text": [
      "Epoch 1/5\n",
      "1000/1000 [==============================] - 0s 97us/sample - loss: 11.6133 - accuracy: 0.0830\n",
      "Epoch 2/5\n",
      "1000/1000 [==============================] - 0s 28us/sample - loss: 11.6174 - accuracy: 0.0860\n",
      "Epoch 3/5\n",
      "1000/1000 [==============================] - 0s 27us/sample - loss: 11.6363 - accuracy: 0.0880\n",
      "Epoch 4/5\n",
      "1000/1000 [==============================] - 0s 21us/sample - loss: 11.6555 - accuracy: 0.0970\n",
      "Epoch 5/5\n",
      "1000/1000 [==============================] - 0s 24us/sample - loss: 11.6816 - accuracy: 0.0970\n"
     ]
    }
   ],
   "source": [
    "# 创建一个简单的模型\n",
    "model = tf.keras.Sequential([\n",
    "  layers.Dense(10, activation='softmax', input_shape=(32,)),\n",
    "  layers.Dense(10, activation='softmax')\n",
    "])\n",
    "model.compile(optimizer='rmsprop',\n",
    "              loss='categorical_crossentropy',\n",
    "              metrics=['accuracy'])\n",
    "model.fit(data, labels, batch_size=32, epochs=5)\n",
    "\n",
    "# 将整个模型保存为HDF5文件\n",
    "model.save('./model/my_model.h5')\n",
    "\n",
    "# 从保存的HDF5文件中重新创建相同的模型，包括模型结构、权重参数和优化器\n",
    "model = tf.keras.models.load_model('./model/my_model.h5')"
   ]
  },
  {
   "cell_type": "markdown",
   "metadata": {},
   "source": [
    "#### 模型评估"
   ]
  },
  {
   "cell_type": "code",
   "execution_count": 12,
   "metadata": {
    "ExecuteTime": {
     "end_time": "2019-04-29T23:04:00.109191Z",
     "start_time": "2019-04-29T23:04:00.025375Z"
    }
   },
   "outputs": [
    {
     "name": "stdout",
     "output_type": "stream",
     "text": [
      "1000/1000 [==============================] - 0s 15us/sample - loss: 15546.8991 - categorical_accuracy: 0.0910\n",
      "30/30 [==============================] - 0s 724us/step - loss: 15551.4333 - categorical_accuracy: 0.0927\n",
      "32/32 [==============================] - 0s 778us/step - loss: 15563.5919 - categorical_accuracy: 0.0910\n"
     ]
    },
    {
     "data": {
      "text/plain": [
       "[15563.591857910156, 0.091]"
      ]
     },
     "execution_count": 12,
     "metadata": {},
     "output_type": "execute_result"
    }
   ],
   "source": [
    "test_data = np.random.random((1000,32))\n",
    "test_labels = np.random.random((1000,10))\n",
    "\n",
    "test_dataset = tf.data.Dataset.from_tensor_slices((test_data, test_labels))\n",
    "test_dataset = test_dataset.batch(32)\n",
    "\n",
    "# numpy 数据\n",
    "model.evaluate(test_data, test_labels, batch_size=32)\n",
    "# tf.data.Dataset数据\n",
    "model.evaluate(test_dataset, steps=30)  # step参数的上限是ceil(测试集样本数/batch_size)\n",
    "model.evaluate(test_dataset)"
   ]
  },
  {
   "cell_type": "markdown",
   "metadata": {},
   "source": [
    "#### 模型预测"
   ]
  },
  {
   "cell_type": "code",
   "execution_count": 13,
   "metadata": {
    "ExecuteTime": {
     "end_time": "2019-04-29T23:04:00.162784Z",
     "start_time": "2019-04-29T23:04:00.110462Z"
    }
   },
   "outputs": [
    {
     "data": {
      "text/plain": [
       "(1000, 10)"
      ]
     },
     "execution_count": 13,
     "metadata": {},
     "output_type": "execute_result"
    }
   ],
   "source": [
    "new_data = np.random.random((1000,32))\n",
    "\n",
    "new_dataset = tf.data.Dataset.from_tensor_slices(new_data)\n",
    "new_dataset = new_dataset.batch(32)\n",
    "\n",
    "# numpy 数据\n",
    "pred = model.predict(new_data, batch_size=32)\n",
    "# tf.data.Dataset数据\n",
    "pred = model.predict(new_dataset)\n",
    "pred.shape"
   ]
  }
 ],
 "metadata": {
  "gist": {
   "data": {
    "description": "001-Keras_a_quick_overview",
    "public": true
   },
   "id": ""
  },
  "kernelspec": {
   "display_name": "Python 3",
   "language": "python",
   "name": "python3"
  },
  "language_info": {
   "codemirror_mode": {
    "name": "ipython",
    "version": 3
   },
   "file_extension": ".py",
   "mimetype": "text/x-python",
   "name": "python",
   "nbconvert_exporter": "python",
   "pygments_lexer": "ipython3",
   "version": "3.6.2"
  },
  "toc": {
   "base_numbering": 1,
   "nav_menu": {},
   "number_sections": true,
   "sideBar": true,
   "skip_h1_title": false,
   "title_cell": "Table of Contents",
   "title_sidebar": "Contents",
   "toc_cell": false,
   "toc_position": {
    "height": "calc(100% - 180px)",
    "left": "10px",
    "top": "150px",
    "width": "320px"
   },
   "toc_section_display": true,
   "toc_window_display": true
  },
  "varInspector": {
   "cols": {
    "lenName": 16,
    "lenType": 16,
    "lenVar": 40
   },
   "kernels_config": {
    "python": {
     "delete_cmd_postfix": "",
     "delete_cmd_prefix": "del ",
     "library": "var_list.py",
     "varRefreshCmd": "print(var_dic_list())"
    },
    "r": {
     "delete_cmd_postfix": ") ",
     "delete_cmd_prefix": "rm(",
     "library": "var_list.r",
     "varRefreshCmd": "cat(var_dic_list()) "
    }
   },
   "types_to_exclude": [
    "module",
    "function",
    "builtin_function_or_method",
    "instance",
    "_Feature"
   ],
   "window_display": false
  }
 },
 "nbformat": 4,
 "nbformat_minor": 2
}
