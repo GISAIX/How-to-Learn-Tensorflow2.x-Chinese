{
 "cells": [
  {
   "cell_type": "markdown",
   "metadata": {},
   "source": [
    "# 开发环境配置"
   ]
  },
  {
   "cell_type": "markdown",
   "metadata": {},
   "source": [
    "学习环境\n",
    "\n",
    "```shell\n",
    "conda env list\n",
    "\n",
    "conda create -n tf2.0\n",
    "\n",
    "conda env list \n",
    "\n",
    "# 切换到新创建的虚拟环境\n",
    "source activate tf2.0  # 或者：conda activate tf2.0\n",
    "\n",
    "# 安装TF2.x环境\n",
    "pip install tensorflow==2.0.0-alpha0 \n",
    "\n",
    "```\n",
    "\n",
    "修改conda为国内源\n",
    "\n",
    "```sh\n",
    "conda config --add channels https://mirrors.tuna.tsinghua.edu.cn/anaconda/pkgs/main/\n",
    "conda config --add channels https://mirrors.tuna.tsinghua.edu.cn/anaconda/pkgs/free/\n",
    "conda config --set show_channel_urls yes \n",
    "```"
   ]
  },
  {
   "cell_type": "markdown",
   "metadata": {},
   "source": [
    "# 插件安装"
   ]
  },
  {
   "cell_type": "markdown",
   "metadata": {},
   "source": [
    "Jupyter 环境配置\n",
    "\n",
    "```sh\n",
    "pip install jupyter_nbextensions_configurator jupyter_contrib_nbextensions\n",
    "jupyter contrib nbextension install --user\n",
    "jupyter nbextensions_configurator enable --user\n",
    "\n",
    "```\n",
    "\n",
    "JupyterLab\n",
    "- jupyterlab\n",
    "- [jupyterlab-toc](https://github.com/jupyterlab/jupyterlab-toc)\n",
    "安装命令：jupyter labextension install @jupyterlab/toc"
   ]
  },
  {
   "cell_type": "code",
   "execution_count": null,
   "metadata": {},
   "outputs": [],
   "source": []
  }
 ],
 "metadata": {
  "kernelspec": {
   "display_name": "TF Python 3",
   "language": "python",
   "name": "python3"
  },
  "language_info": {
   "codemirror_mode": {
    "name": "ipython",
    "version": 3
   },
   "file_extension": ".py",
   "mimetype": "text/x-python",
   "name": "python",
   "nbconvert_exporter": "python",
   "pygments_lexer": "ipython3",
   "version": "3.6.2"
  }
 },
 "nbformat": 4,
 "nbformat_minor": 2
}
